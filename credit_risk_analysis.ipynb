{
  "nbformat": 4,
  "nbformat_minor": 0,
  "metadata": {
    "colab": {
      "provenance": [],
      "authorship_tag": "ABX9TyNIdzjxAhTMx+zFGAf47wHp",
      "include_colab_link": true
    },
    "kernelspec": {
      "name": "python3",
      "display_name": "Python 3"
    },
    "language_info": {
      "name": "python"
    }
  },
  "cells": [
    {
      "cell_type": "markdown",
      "metadata": {
        "id": "view-in-github",
        "colab_type": "text"
      },
      "source": [
        "<a href=\"https://colab.research.google.com/github/KamilShape/credit_risk_analysis/blob/main/credit_risk_analysis.ipynb\" target=\"_parent\"><img src=\"https://colab.research.google.com/assets/colab-badge.svg\" alt=\"Open In Colab\"/></a>"
      ]
    },
    {
      "cell_type": "markdown",
      "source": [
        "#1. Introduction and data load."
      ],
      "metadata": {
        "id": "0AnCmFI0IDwW"
      }
    },
    {
      "cell_type": "markdown",
      "source": [
        "###1.1 Libraries"
      ],
      "metadata": {
        "id": "ZmaU-LRzJNbE"
      }
    },
    {
      "cell_type": "code",
      "source": [
        "#visualisation\n",
        "import pandas as pd\n",
        "import matplotlib.pyplot as plt\n",
        "import seaborn as sns\n",
        "import numpy as np\n",
        "\n",
        "#models\n",
        "from sklearn.model_selection import train_test_split\n",
        "from imblearn.under_sampling import RandomUnderSampler\n",
        "from imblearn.over_sampling import SMOTE\n",
        "from collections import Counter\n",
        "from sklearn.metrics import confusion_matrix, classification_report\n",
        "# from sklearn.naive_bayes import GaussianNB\n",
        "from sklearn.naive_bayes import BernoulliNB\n",
        "from sklearn.neighbors import KNeighborsClassifier\n",
        "from sklearn.model_selection import GridSearchCV\n",
        "from sklearn.svm import LinearSVC\n",
        "from sklearn.svm import SVC"
      ],
      "metadata": {
        "id": "umIu2eFEJNAl"
      },
      "execution_count": 1,
      "outputs": []
    },
    {
      "cell_type": "code",
      "execution_count": 2,
      "metadata": {
        "colab": {
          "base_uri": "https://localhost:8080/"
        },
        "id": "UuovZxOeH8tk",
        "outputId": "23425824-b3eb-4045-d96d-3f4d72456ab8"
      },
      "outputs": [
        {
          "output_type": "stream",
          "name": "stdout",
          "text": [
            "Mounted at /content/drive\n"
          ]
        }
      ],
      "source": [
        "from google.colab import drive\n",
        "drive.mount('/content/drive')"
      ]
    },
    {
      "cell_type": "markdown",
      "source": [
        "###1.2 Database analysis"
      ],
      "metadata": {
        "id": "O5mjql3TQ4sA"
      }
    },
    {
      "cell_type": "markdown",
      "source": [
        "Database link: https://www.kaggle.com/datasets/ranadeep/credit-risk-dataset"
      ],
      "metadata": {
        "id": "_aYbNT31Kg7l"
      }
    },
    {
      "cell_type": "code",
      "source": [
        "loan = pd.read_csv(\"/content/drive/MyDrive/loan.csv\")"
      ],
      "metadata": {
        "id": "FwgSx7ywKf_I",
        "colab": {
          "base_uri": "https://localhost:8080/"
        },
        "outputId": "c829491e-e6bf-469f-cfa3-254dde1789ee"
      },
      "execution_count": 3,
      "outputs": [
        {
          "output_type": "stream",
          "name": "stderr",
          "text": [
            "<ipython-input-3-09ca7cbc1256>:1: DtypeWarning: Columns (19,55) have mixed types. Specify dtype option on import or set low_memory=False.\n",
            "  loan = pd.read_csv(\"/content/drive/MyDrive/loan.csv\")\n"
          ]
        }
      ]
    },
    {
      "cell_type": "code",
      "source": [
        "loan.head()"
      ],
      "metadata": {
        "colab": {
          "base_uri": "https://localhost:8080/",
          "height": 235
        },
        "id": "sy_t4VfyK6Lk",
        "outputId": "8d83b991-a470-461d-8f0d-2d8c2ee2cd19"
      },
      "execution_count": 4,
      "outputs": [
        {
          "output_type": "execute_result",
          "data": {
            "text/plain": [
              "        id  member_id  loan_amnt  funded_amnt  funded_amnt_inv        term  \\\n",
              "0  1077501    1296599     5000.0       5000.0           4975.0   36 months   \n",
              "1  1077430    1314167     2500.0       2500.0           2500.0   60 months   \n",
              "2  1077175    1313524     2400.0       2400.0           2400.0   36 months   \n",
              "3  1076863    1277178    10000.0      10000.0          10000.0   36 months   \n",
              "4  1075358    1311748     3000.0       3000.0           3000.0   60 months   \n",
              "\n",
              "   int_rate  installment grade sub_grade  ... total_bal_il il_util  \\\n",
              "0     10.65       162.87     B        B2  ...          NaN     NaN   \n",
              "1     15.27        59.83     C        C4  ...          NaN     NaN   \n",
              "2     15.96        84.33     C        C5  ...          NaN     NaN   \n",
              "3     13.49       339.31     C        C1  ...          NaN     NaN   \n",
              "4     12.69        67.79     B        B5  ...          NaN     NaN   \n",
              "\n",
              "  open_rv_12m  open_rv_24m max_bal_bc all_util total_rev_hi_lim inq_fi  \\\n",
              "0         NaN          NaN        NaN      NaN              NaN    NaN   \n",
              "1         NaN          NaN        NaN      NaN              NaN    NaN   \n",
              "2         NaN          NaN        NaN      NaN              NaN    NaN   \n",
              "3         NaN          NaN        NaN      NaN              NaN    NaN   \n",
              "4         NaN          NaN        NaN      NaN              NaN    NaN   \n",
              "\n",
              "  total_cu_tl inq_last_12m  \n",
              "0         NaN          NaN  \n",
              "1         NaN          NaN  \n",
              "2         NaN          NaN  \n",
              "3         NaN          NaN  \n",
              "4         NaN          NaN  \n",
              "\n",
              "[5 rows x 74 columns]"
            ],
            "text/html": [
              "\n",
              "  <div id=\"df-a41a9f3a-60ad-4861-972a-4210026e6eff\">\n",
              "    <div class=\"colab-df-container\">\n",
              "      <div>\n",
              "<style scoped>\n",
              "    .dataframe tbody tr th:only-of-type {\n",
              "        vertical-align: middle;\n",
              "    }\n",
              "\n",
              "    .dataframe tbody tr th {\n",
              "        vertical-align: top;\n",
              "    }\n",
              "\n",
              "    .dataframe thead th {\n",
              "        text-align: right;\n",
              "    }\n",
              "</style>\n",
              "<table border=\"1\" class=\"dataframe\">\n",
              "  <thead>\n",
              "    <tr style=\"text-align: right;\">\n",
              "      <th></th>\n",
              "      <th>id</th>\n",
              "      <th>member_id</th>\n",
              "      <th>loan_amnt</th>\n",
              "      <th>funded_amnt</th>\n",
              "      <th>funded_amnt_inv</th>\n",
              "      <th>term</th>\n",
              "      <th>int_rate</th>\n",
              "      <th>installment</th>\n",
              "      <th>grade</th>\n",
              "      <th>sub_grade</th>\n",
              "      <th>...</th>\n",
              "      <th>total_bal_il</th>\n",
              "      <th>il_util</th>\n",
              "      <th>open_rv_12m</th>\n",
              "      <th>open_rv_24m</th>\n",
              "      <th>max_bal_bc</th>\n",
              "      <th>all_util</th>\n",
              "      <th>total_rev_hi_lim</th>\n",
              "      <th>inq_fi</th>\n",
              "      <th>total_cu_tl</th>\n",
              "      <th>inq_last_12m</th>\n",
              "    </tr>\n",
              "  </thead>\n",
              "  <tbody>\n",
              "    <tr>\n",
              "      <th>0</th>\n",
              "      <td>1077501</td>\n",
              "      <td>1296599</td>\n",
              "      <td>5000.0</td>\n",
              "      <td>5000.0</td>\n",
              "      <td>4975.0</td>\n",
              "      <td>36 months</td>\n",
              "      <td>10.65</td>\n",
              "      <td>162.87</td>\n",
              "      <td>B</td>\n",
              "      <td>B2</td>\n",
              "      <td>...</td>\n",
              "      <td>NaN</td>\n",
              "      <td>NaN</td>\n",
              "      <td>NaN</td>\n",
              "      <td>NaN</td>\n",
              "      <td>NaN</td>\n",
              "      <td>NaN</td>\n",
              "      <td>NaN</td>\n",
              "      <td>NaN</td>\n",
              "      <td>NaN</td>\n",
              "      <td>NaN</td>\n",
              "    </tr>\n",
              "    <tr>\n",
              "      <th>1</th>\n",
              "      <td>1077430</td>\n",
              "      <td>1314167</td>\n",
              "      <td>2500.0</td>\n",
              "      <td>2500.0</td>\n",
              "      <td>2500.0</td>\n",
              "      <td>60 months</td>\n",
              "      <td>15.27</td>\n",
              "      <td>59.83</td>\n",
              "      <td>C</td>\n",
              "      <td>C4</td>\n",
              "      <td>...</td>\n",
              "      <td>NaN</td>\n",
              "      <td>NaN</td>\n",
              "      <td>NaN</td>\n",
              "      <td>NaN</td>\n",
              "      <td>NaN</td>\n",
              "      <td>NaN</td>\n",
              "      <td>NaN</td>\n",
              "      <td>NaN</td>\n",
              "      <td>NaN</td>\n",
              "      <td>NaN</td>\n",
              "    </tr>\n",
              "    <tr>\n",
              "      <th>2</th>\n",
              "      <td>1077175</td>\n",
              "      <td>1313524</td>\n",
              "      <td>2400.0</td>\n",
              "      <td>2400.0</td>\n",
              "      <td>2400.0</td>\n",
              "      <td>36 months</td>\n",
              "      <td>15.96</td>\n",
              "      <td>84.33</td>\n",
              "      <td>C</td>\n",
              "      <td>C5</td>\n",
              "      <td>...</td>\n",
              "      <td>NaN</td>\n",
              "      <td>NaN</td>\n",
              "      <td>NaN</td>\n",
              "      <td>NaN</td>\n",
              "      <td>NaN</td>\n",
              "      <td>NaN</td>\n",
              "      <td>NaN</td>\n",
              "      <td>NaN</td>\n",
              "      <td>NaN</td>\n",
              "      <td>NaN</td>\n",
              "    </tr>\n",
              "    <tr>\n",
              "      <th>3</th>\n",
              "      <td>1076863</td>\n",
              "      <td>1277178</td>\n",
              "      <td>10000.0</td>\n",
              "      <td>10000.0</td>\n",
              "      <td>10000.0</td>\n",
              "      <td>36 months</td>\n",
              "      <td>13.49</td>\n",
              "      <td>339.31</td>\n",
              "      <td>C</td>\n",
              "      <td>C1</td>\n",
              "      <td>...</td>\n",
              "      <td>NaN</td>\n",
              "      <td>NaN</td>\n",
              "      <td>NaN</td>\n",
              "      <td>NaN</td>\n",
              "      <td>NaN</td>\n",
              "      <td>NaN</td>\n",
              "      <td>NaN</td>\n",
              "      <td>NaN</td>\n",
              "      <td>NaN</td>\n",
              "      <td>NaN</td>\n",
              "    </tr>\n",
              "    <tr>\n",
              "      <th>4</th>\n",
              "      <td>1075358</td>\n",
              "      <td>1311748</td>\n",
              "      <td>3000.0</td>\n",
              "      <td>3000.0</td>\n",
              "      <td>3000.0</td>\n",
              "      <td>60 months</td>\n",
              "      <td>12.69</td>\n",
              "      <td>67.79</td>\n",
              "      <td>B</td>\n",
              "      <td>B5</td>\n",
              "      <td>...</td>\n",
              "      <td>NaN</td>\n",
              "      <td>NaN</td>\n",
              "      <td>NaN</td>\n",
              "      <td>NaN</td>\n",
              "      <td>NaN</td>\n",
              "      <td>NaN</td>\n",
              "      <td>NaN</td>\n",
              "      <td>NaN</td>\n",
              "      <td>NaN</td>\n",
              "      <td>NaN</td>\n",
              "    </tr>\n",
              "  </tbody>\n",
              "</table>\n",
              "<p>5 rows × 74 columns</p>\n",
              "</div>\n",
              "      <button class=\"colab-df-convert\" onclick=\"convertToInteractive('df-a41a9f3a-60ad-4861-972a-4210026e6eff')\"\n",
              "              title=\"Convert this dataframe to an interactive table.\"\n",
              "              style=\"display:none;\">\n",
              "        \n",
              "  <svg xmlns=\"http://www.w3.org/2000/svg\" height=\"24px\"viewBox=\"0 0 24 24\"\n",
              "       width=\"24px\">\n",
              "    <path d=\"M0 0h24v24H0V0z\" fill=\"none\"/>\n",
              "    <path d=\"M18.56 5.44l.94 2.06.94-2.06 2.06-.94-2.06-.94-.94-2.06-.94 2.06-2.06.94zm-11 1L8.5 8.5l.94-2.06 2.06-.94-2.06-.94L8.5 2.5l-.94 2.06-2.06.94zm10 10l.94 2.06.94-2.06 2.06-.94-2.06-.94-.94-2.06-.94 2.06-2.06.94z\"/><path d=\"M17.41 7.96l-1.37-1.37c-.4-.4-.92-.59-1.43-.59-.52 0-1.04.2-1.43.59L10.3 9.45l-7.72 7.72c-.78.78-.78 2.05 0 2.83L4 21.41c.39.39.9.59 1.41.59.51 0 1.02-.2 1.41-.59l7.78-7.78 2.81-2.81c.8-.78.8-2.07 0-2.86zM5.41 20L4 18.59l7.72-7.72 1.47 1.35L5.41 20z\"/>\n",
              "  </svg>\n",
              "      </button>\n",
              "      \n",
              "  <style>\n",
              "    .colab-df-container {\n",
              "      display:flex;\n",
              "      flex-wrap:wrap;\n",
              "      gap: 12px;\n",
              "    }\n",
              "\n",
              "    .colab-df-convert {\n",
              "      background-color: #E8F0FE;\n",
              "      border: none;\n",
              "      border-radius: 50%;\n",
              "      cursor: pointer;\n",
              "      display: none;\n",
              "      fill: #1967D2;\n",
              "      height: 32px;\n",
              "      padding: 0 0 0 0;\n",
              "      width: 32px;\n",
              "    }\n",
              "\n",
              "    .colab-df-convert:hover {\n",
              "      background-color: #E2EBFA;\n",
              "      box-shadow: 0px 1px 2px rgba(60, 64, 67, 0.3), 0px 1px 3px 1px rgba(60, 64, 67, 0.15);\n",
              "      fill: #174EA6;\n",
              "    }\n",
              "\n",
              "    [theme=dark] .colab-df-convert {\n",
              "      background-color: #3B4455;\n",
              "      fill: #D2E3FC;\n",
              "    }\n",
              "\n",
              "    [theme=dark] .colab-df-convert:hover {\n",
              "      background-color: #434B5C;\n",
              "      box-shadow: 0px 1px 3px 1px rgba(0, 0, 0, 0.15);\n",
              "      filter: drop-shadow(0px 1px 2px rgba(0, 0, 0, 0.3));\n",
              "      fill: #FFFFFF;\n",
              "    }\n",
              "  </style>\n",
              "\n",
              "      <script>\n",
              "        const buttonEl =\n",
              "          document.querySelector('#df-a41a9f3a-60ad-4861-972a-4210026e6eff button.colab-df-convert');\n",
              "        buttonEl.style.display =\n",
              "          google.colab.kernel.accessAllowed ? 'block' : 'none';\n",
              "\n",
              "        async function convertToInteractive(key) {\n",
              "          const element = document.querySelector('#df-a41a9f3a-60ad-4861-972a-4210026e6eff');\n",
              "          const dataTable =\n",
              "            await google.colab.kernel.invokeFunction('convertToInteractive',\n",
              "                                                     [key], {});\n",
              "          if (!dataTable) return;\n",
              "\n",
              "          const docLinkHtml = 'Like what you see? Visit the ' +\n",
              "            '<a target=\"_blank\" href=https://colab.research.google.com/notebooks/data_table.ipynb>data table notebook</a>'\n",
              "            + ' to learn more about interactive tables.';\n",
              "          element.innerHTML = '';\n",
              "          dataTable['output_type'] = 'display_data';\n",
              "          await google.colab.output.renderOutput(dataTable, element);\n",
              "          const docLink = document.createElement('div');\n",
              "          docLink.innerHTML = docLinkHtml;\n",
              "          element.appendChild(docLink);\n",
              "        }\n",
              "      </script>\n",
              "    </div>\n",
              "  </div>\n",
              "  "
            ]
          },
          "metadata": {},
          "execution_count": 4
        }
      ]
    },
    {
      "cell_type": "markdown",
      "source": [
        "# 2. Data preprocessing"
      ],
      "metadata": {
        "id": "uP9PaV-0Cwgr"
      }
    },
    {
      "cell_type": "markdown",
      "source": [
        "### 2.1 Selecting relevant columns"
      ],
      "metadata": {
        "id": "J_OOzfT5mhMi"
      }
    },
    {
      "cell_type": "code",
      "source": [
        "loan2 = loan[['loan_amnt', 'term', 'int_rate', 'installment', 'grade', 'home_ownership', 'emp_length', 'annual_inc', 'purpose', 'dti', 'delinq_2yrs', 'application_type', 'annual_inc_joint', 'dti_joint', 'verification_status', 'loan_status']]"
      ],
      "metadata": {
        "id": "GFujUU9ummez"
      },
      "execution_count": 5,
      "outputs": []
    },
    {
      "cell_type": "code",
      "source": [
        "loan2.head()"
      ],
      "metadata": {
        "colab": {
          "base_uri": "https://localhost:8080/",
          "height": 206
        },
        "id": "6nZvssxmndtR",
        "outputId": "555383db-02fe-4abe-f098-30123386c678"
      },
      "execution_count": 6,
      "outputs": [
        {
          "output_type": "execute_result",
          "data": {
            "text/plain": [
              "   loan_amnt        term  int_rate  installment grade home_ownership  \\\n",
              "0     5000.0   36 months     10.65       162.87     B           RENT   \n",
              "1     2500.0   60 months     15.27        59.83     C           RENT   \n",
              "2     2400.0   36 months     15.96        84.33     C           RENT   \n",
              "3    10000.0   36 months     13.49       339.31     C           RENT   \n",
              "4     3000.0   60 months     12.69        67.79     B           RENT   \n",
              "\n",
              "  emp_length  annual_inc         purpose    dti  delinq_2yrs application_type  \\\n",
              "0  10+ years     24000.0     credit_card  27.65          0.0       INDIVIDUAL   \n",
              "1   < 1 year     30000.0             car   1.00          0.0       INDIVIDUAL   \n",
              "2  10+ years     12252.0  small_business   8.72          0.0       INDIVIDUAL   \n",
              "3  10+ years     49200.0           other  20.00          0.0       INDIVIDUAL   \n",
              "4     1 year     80000.0           other  17.94          0.0       INDIVIDUAL   \n",
              "\n",
              "   annual_inc_joint  dti_joint verification_status  loan_status  \n",
              "0               NaN        NaN            Verified   Fully Paid  \n",
              "1               NaN        NaN     Source Verified  Charged Off  \n",
              "2               NaN        NaN        Not Verified   Fully Paid  \n",
              "3               NaN        NaN     Source Verified   Fully Paid  \n",
              "4               NaN        NaN     Source Verified      Current  "
            ],
            "text/html": [
              "\n",
              "  <div id=\"df-ffbfa09f-d8af-45ca-abdb-a75c9b170a89\">\n",
              "    <div class=\"colab-df-container\">\n",
              "      <div>\n",
              "<style scoped>\n",
              "    .dataframe tbody tr th:only-of-type {\n",
              "        vertical-align: middle;\n",
              "    }\n",
              "\n",
              "    .dataframe tbody tr th {\n",
              "        vertical-align: top;\n",
              "    }\n",
              "\n",
              "    .dataframe thead th {\n",
              "        text-align: right;\n",
              "    }\n",
              "</style>\n",
              "<table border=\"1\" class=\"dataframe\">\n",
              "  <thead>\n",
              "    <tr style=\"text-align: right;\">\n",
              "      <th></th>\n",
              "      <th>loan_amnt</th>\n",
              "      <th>term</th>\n",
              "      <th>int_rate</th>\n",
              "      <th>installment</th>\n",
              "      <th>grade</th>\n",
              "      <th>home_ownership</th>\n",
              "      <th>emp_length</th>\n",
              "      <th>annual_inc</th>\n",
              "      <th>purpose</th>\n",
              "      <th>dti</th>\n",
              "      <th>delinq_2yrs</th>\n",
              "      <th>application_type</th>\n",
              "      <th>annual_inc_joint</th>\n",
              "      <th>dti_joint</th>\n",
              "      <th>verification_status</th>\n",
              "      <th>loan_status</th>\n",
              "    </tr>\n",
              "  </thead>\n",
              "  <tbody>\n",
              "    <tr>\n",
              "      <th>0</th>\n",
              "      <td>5000.0</td>\n",
              "      <td>36 months</td>\n",
              "      <td>10.65</td>\n",
              "      <td>162.87</td>\n",
              "      <td>B</td>\n",
              "      <td>RENT</td>\n",
              "      <td>10+ years</td>\n",
              "      <td>24000.0</td>\n",
              "      <td>credit_card</td>\n",
              "      <td>27.65</td>\n",
              "      <td>0.0</td>\n",
              "      <td>INDIVIDUAL</td>\n",
              "      <td>NaN</td>\n",
              "      <td>NaN</td>\n",
              "      <td>Verified</td>\n",
              "      <td>Fully Paid</td>\n",
              "    </tr>\n",
              "    <tr>\n",
              "      <th>1</th>\n",
              "      <td>2500.0</td>\n",
              "      <td>60 months</td>\n",
              "      <td>15.27</td>\n",
              "      <td>59.83</td>\n",
              "      <td>C</td>\n",
              "      <td>RENT</td>\n",
              "      <td>&lt; 1 year</td>\n",
              "      <td>30000.0</td>\n",
              "      <td>car</td>\n",
              "      <td>1.00</td>\n",
              "      <td>0.0</td>\n",
              "      <td>INDIVIDUAL</td>\n",
              "      <td>NaN</td>\n",
              "      <td>NaN</td>\n",
              "      <td>Source Verified</td>\n",
              "      <td>Charged Off</td>\n",
              "    </tr>\n",
              "    <tr>\n",
              "      <th>2</th>\n",
              "      <td>2400.0</td>\n",
              "      <td>36 months</td>\n",
              "      <td>15.96</td>\n",
              "      <td>84.33</td>\n",
              "      <td>C</td>\n",
              "      <td>RENT</td>\n",
              "      <td>10+ years</td>\n",
              "      <td>12252.0</td>\n",
              "      <td>small_business</td>\n",
              "      <td>8.72</td>\n",
              "      <td>0.0</td>\n",
              "      <td>INDIVIDUAL</td>\n",
              "      <td>NaN</td>\n",
              "      <td>NaN</td>\n",
              "      <td>Not Verified</td>\n",
              "      <td>Fully Paid</td>\n",
              "    </tr>\n",
              "    <tr>\n",
              "      <th>3</th>\n",
              "      <td>10000.0</td>\n",
              "      <td>36 months</td>\n",
              "      <td>13.49</td>\n",
              "      <td>339.31</td>\n",
              "      <td>C</td>\n",
              "      <td>RENT</td>\n",
              "      <td>10+ years</td>\n",
              "      <td>49200.0</td>\n",
              "      <td>other</td>\n",
              "      <td>20.00</td>\n",
              "      <td>0.0</td>\n",
              "      <td>INDIVIDUAL</td>\n",
              "      <td>NaN</td>\n",
              "      <td>NaN</td>\n",
              "      <td>Source Verified</td>\n",
              "      <td>Fully Paid</td>\n",
              "    </tr>\n",
              "    <tr>\n",
              "      <th>4</th>\n",
              "      <td>3000.0</td>\n",
              "      <td>60 months</td>\n",
              "      <td>12.69</td>\n",
              "      <td>67.79</td>\n",
              "      <td>B</td>\n",
              "      <td>RENT</td>\n",
              "      <td>1 year</td>\n",
              "      <td>80000.0</td>\n",
              "      <td>other</td>\n",
              "      <td>17.94</td>\n",
              "      <td>0.0</td>\n",
              "      <td>INDIVIDUAL</td>\n",
              "      <td>NaN</td>\n",
              "      <td>NaN</td>\n",
              "      <td>Source Verified</td>\n",
              "      <td>Current</td>\n",
              "    </tr>\n",
              "  </tbody>\n",
              "</table>\n",
              "</div>\n",
              "      <button class=\"colab-df-convert\" onclick=\"convertToInteractive('df-ffbfa09f-d8af-45ca-abdb-a75c9b170a89')\"\n",
              "              title=\"Convert this dataframe to an interactive table.\"\n",
              "              style=\"display:none;\">\n",
              "        \n",
              "  <svg xmlns=\"http://www.w3.org/2000/svg\" height=\"24px\"viewBox=\"0 0 24 24\"\n",
              "       width=\"24px\">\n",
              "    <path d=\"M0 0h24v24H0V0z\" fill=\"none\"/>\n",
              "    <path d=\"M18.56 5.44l.94 2.06.94-2.06 2.06-.94-2.06-.94-.94-2.06-.94 2.06-2.06.94zm-11 1L8.5 8.5l.94-2.06 2.06-.94-2.06-.94L8.5 2.5l-.94 2.06-2.06.94zm10 10l.94 2.06.94-2.06 2.06-.94-2.06-.94-.94-2.06-.94 2.06-2.06.94z\"/><path d=\"M17.41 7.96l-1.37-1.37c-.4-.4-.92-.59-1.43-.59-.52 0-1.04.2-1.43.59L10.3 9.45l-7.72 7.72c-.78.78-.78 2.05 0 2.83L4 21.41c.39.39.9.59 1.41.59.51 0 1.02-.2 1.41-.59l7.78-7.78 2.81-2.81c.8-.78.8-2.07 0-2.86zM5.41 20L4 18.59l7.72-7.72 1.47 1.35L5.41 20z\"/>\n",
              "  </svg>\n",
              "      </button>\n",
              "      \n",
              "  <style>\n",
              "    .colab-df-container {\n",
              "      display:flex;\n",
              "      flex-wrap:wrap;\n",
              "      gap: 12px;\n",
              "    }\n",
              "\n",
              "    .colab-df-convert {\n",
              "      background-color: #E8F0FE;\n",
              "      border: none;\n",
              "      border-radius: 50%;\n",
              "      cursor: pointer;\n",
              "      display: none;\n",
              "      fill: #1967D2;\n",
              "      height: 32px;\n",
              "      padding: 0 0 0 0;\n",
              "      width: 32px;\n",
              "    }\n",
              "\n",
              "    .colab-df-convert:hover {\n",
              "      background-color: #E2EBFA;\n",
              "      box-shadow: 0px 1px 2px rgba(60, 64, 67, 0.3), 0px 1px 3px 1px rgba(60, 64, 67, 0.15);\n",
              "      fill: #174EA6;\n",
              "    }\n",
              "\n",
              "    [theme=dark] .colab-df-convert {\n",
              "      background-color: #3B4455;\n",
              "      fill: #D2E3FC;\n",
              "    }\n",
              "\n",
              "    [theme=dark] .colab-df-convert:hover {\n",
              "      background-color: #434B5C;\n",
              "      box-shadow: 0px 1px 3px 1px rgba(0, 0, 0, 0.15);\n",
              "      filter: drop-shadow(0px 1px 2px rgba(0, 0, 0, 0.3));\n",
              "      fill: #FFFFFF;\n",
              "    }\n",
              "  </style>\n",
              "\n",
              "      <script>\n",
              "        const buttonEl =\n",
              "          document.querySelector('#df-ffbfa09f-d8af-45ca-abdb-a75c9b170a89 button.colab-df-convert');\n",
              "        buttonEl.style.display =\n",
              "          google.colab.kernel.accessAllowed ? 'block' : 'none';\n",
              "\n",
              "        async function convertToInteractive(key) {\n",
              "          const element = document.querySelector('#df-ffbfa09f-d8af-45ca-abdb-a75c9b170a89');\n",
              "          const dataTable =\n",
              "            await google.colab.kernel.invokeFunction('convertToInteractive',\n",
              "                                                     [key], {});\n",
              "          if (!dataTable) return;\n",
              "\n",
              "          const docLinkHtml = 'Like what you see? Visit the ' +\n",
              "            '<a target=\"_blank\" href=https://colab.research.google.com/notebooks/data_table.ipynb>data table notebook</a>'\n",
              "            + ' to learn more about interactive tables.';\n",
              "          element.innerHTML = '';\n",
              "          dataTable['output_type'] = 'display_data';\n",
              "          await google.colab.output.renderOutput(dataTable, element);\n",
              "          const docLink = document.createElement('div');\n",
              "          docLink.innerHTML = docLinkHtml;\n",
              "          element.appendChild(docLink);\n",
              "        }\n",
              "      </script>\n",
              "    </div>\n",
              "  </div>\n",
              "  "
            ]
          },
          "metadata": {},
          "execution_count": 6
        }
      ]
    },
    {
      "cell_type": "markdown",
      "source": [
        "### 2.2 Removing NaN values"
      ],
      "metadata": {
        "id": "BCHwP2vIC9nD"
      }
    },
    {
      "cell_type": "code",
      "source": [
        "loan2.fillna(0, inplace = True)"
      ],
      "metadata": {
        "id": "Q-lBeeLGOej-",
        "colab": {
          "base_uri": "https://localhost:8080/"
        },
        "outputId": "7f03e309-5984-4e2f-d45e-6e0e71fd199c"
      },
      "execution_count": 7,
      "outputs": [
        {
          "output_type": "stream",
          "name": "stderr",
          "text": [
            "<ipython-input-7-81e18bd3abfd>:1: SettingWithCopyWarning: \n",
            "A value is trying to be set on a copy of a slice from a DataFrame\n",
            "\n",
            "See the caveats in the documentation: https://pandas.pydata.org/pandas-docs/stable/user_guide/indexing.html#returning-a-view-versus-a-copy\n",
            "  loan2.fillna(0, inplace = True)\n"
          ]
        }
      ]
    },
    {
      "cell_type": "code",
      "source": [
        "#checking null values\n",
        "np.sum(loan2.isnull().any(axis=1))"
      ],
      "metadata": {
        "colab": {
          "base_uri": "https://localhost:8080/"
        },
        "id": "GT3uWAPA8WoG",
        "outputId": "f1278c82-e417-4941-e9f7-ed4ae8af58be"
      },
      "execution_count": 8,
      "outputs": [
        {
          "output_type": "execute_result",
          "data": {
            "text/plain": [
              "0"
            ]
          },
          "metadata": {},
          "execution_count": 8
        }
      ]
    },
    {
      "cell_type": "markdown",
      "source": [
        "### 2.3 Spliting loan_status into 3 categories\n",
        "* 'Low' - low risk (Issued, Current, Does not meet the credit policy: Status:Fully Paid, Fully Paid)\n",
        "* 'Medium' - medium risk (In Grace Period, Late (16-30 days), Late (31-120 days))\n",
        "* 'High' - high risk (Charged Off ,Does not meet the credit policy. Status:Charged Off, Default)\n",
        "\n",
        "\n",
        "\n",
        "\n"
      ],
      "metadata": {
        "id": "O2hmH1AtqMDL"
      }
    },
    {
      "cell_type": "code",
      "source": [
        "loan2.loc[loan2['loan_status'].isin(['Issued','Current','Does not meet the credit policy. Status:Fully Paid', 'Fully Paid']), 'loan_risk'] = 'Low'\n",
        "loan2.loc[loan2['loan_status'].isin(['In Grace Period', 'Late (16-30 days)' ]), 'loan_risk'] = 'Medium'\n",
        "loan2.loc[loan2['loan_status'].isin(['Charged Off' , 'Does not meet the credit policy. Status:Charged Off','Late (31-120 days)', 'Default']), 'loan_risk'] = 'High'"
      ],
      "metadata": {
        "colab": {
          "base_uri": "https://localhost:8080/"
        },
        "id": "ImiJAKQiriml",
        "outputId": "c9fa0378-b3a0-49d0-d4ab-c7f218ad8839"
      },
      "execution_count": 9,
      "outputs": [
        {
          "output_type": "stream",
          "name": "stderr",
          "text": [
            "<ipython-input-9-bfb5645fc4c4>:1: SettingWithCopyWarning: \n",
            "A value is trying to be set on a copy of a slice from a DataFrame.\n",
            "Try using .loc[row_indexer,col_indexer] = value instead\n",
            "\n",
            "See the caveats in the documentation: https://pandas.pydata.org/pandas-docs/stable/user_guide/indexing.html#returning-a-view-versus-a-copy\n",
            "  loan2.loc[loan2['loan_status'].isin(['Issued','Current','Does not meet the credit policy. Status:Fully Paid', 'Fully Paid']), 'loan_risk'] = 'Low'\n"
          ]
        }
      ]
    },
    {
      "cell_type": "markdown",
      "source": [
        "2.4 Spliting home_ownership into 4 categories\n",
        "\n",
        "\n",
        "*   'MORTGAGE' - MORTGAGE\n",
        "*   'RENT' - RENT\n",
        "*   'OWN' - OWN\n",
        "*   'OTHER' - OTHER, NONE, ANY "
      ],
      "metadata": {
        "id": "SaNM2rxLraAm"
      }
    },
    {
      "cell_type": "code",
      "source": [
        "loan2['home_ownership'] = loan2['home_ownership'].str.replace('NONE', \"OTHER\")\n",
        "loan2['home_ownership'] = loan2['home_ownership'].str.replace('ANY', \"OTHER\")"
      ],
      "metadata": {
        "id": "APu_-KDLuD3p",
        "outputId": "9f45f981-bba7-4b2b-b024-d8daf3dd5d41",
        "colab": {
          "base_uri": "https://localhost:8080/"
        }
      },
      "execution_count": 10,
      "outputs": [
        {
          "output_type": "stream",
          "name": "stderr",
          "text": [
            "<ipython-input-10-d07d7a7148e2>:1: SettingWithCopyWarning: \n",
            "A value is trying to be set on a copy of a slice from a DataFrame.\n",
            "Try using .loc[row_indexer,col_indexer] = value instead\n",
            "\n",
            "See the caveats in the documentation: https://pandas.pydata.org/pandas-docs/stable/user_guide/indexing.html#returning-a-view-versus-a-copy\n",
            "  loan2['home_ownership'] = loan2['home_ownership'].str.replace('NONE', \"OTHER\")\n",
            "<ipython-input-10-d07d7a7148e2>:2: SettingWithCopyWarning: \n",
            "A value is trying to be set on a copy of a slice from a DataFrame.\n",
            "Try using .loc[row_indexer,col_indexer] = value instead\n",
            "\n",
            "See the caveats in the documentation: https://pandas.pydata.org/pandas-docs/stable/user_guide/indexing.html#returning-a-view-versus-a-copy\n",
            "  loan2['home_ownership'] = loan2['home_ownership'].str.replace('ANY', \"OTHER\")\n"
          ]
        }
      ]
    },
    {
      "cell_type": "markdown",
      "source": [
        "#3. Data visualisation"
      ],
      "metadata": {
        "id": "Fn8fi7KBuPDw"
      }
    },
    {
      "cell_type": "markdown",
      "source": [
        "### 3.1 Data Visualisation for loan risk"
      ],
      "metadata": {
        "id": "V_Nw2JJU09to"
      }
    },
    {
      "cell_type": "code",
      "source": [
        "avg_loan_amnt_by_loan_risk = pd.DataFrame(loan2.groupby('loan_risk')['loan_amnt'].mean().reset_index())"
      ],
      "metadata": {
        "id": "mhO42Q9LDAHf"
      },
      "execution_count": 11,
      "outputs": []
    },
    {
      "cell_type": "code",
      "source": [
        "avg_rate_by_loan_risk = pd.DataFrame(loan2.groupby('loan_risk')['int_rate'].mean().reset_index())"
      ],
      "metadata": {
        "id": "SbiqKsvJvUs3"
      },
      "execution_count": 12,
      "outputs": []
    },
    {
      "cell_type": "code",
      "source": [
        "avg_dti_by_loan_risk = pd.DataFrame(loan2.groupby('loan_risk')['dti'].mean().reset_index())"
      ],
      "metadata": {
        "id": "nSJTRK_FFEgp"
      },
      "execution_count": 13,
      "outputs": []
    },
    {
      "cell_type": "code",
      "source": [
        "avg_installment_by_loan_risk = pd.DataFrame(loan2.groupby('loan_risk')['installment'].mean().reset_index())"
      ],
      "metadata": {
        "id": "zRyeMqxqGaGP"
      },
      "execution_count": 14,
      "outputs": []
    },
    {
      "cell_type": "code",
      "source": [
        "#cleaning emp_length columns\n",
        "loan2['emp_length'] = loan2['emp_length'].str.replace('year', \"\")\n",
        "loan2['emp_length'] = loan2['emp_length'].str.replace('s', \"\")\n",
        "loan2['emp_length'] = loan2['emp_length'].str.replace('< 1', \"0.5\")\n",
        "loan2['emp_length'] = loan2['emp_length'].str.replace('+', \"\")\n",
        "loan2['emp_length'] = loan2['emp_length'].str.replace(' ', \"\")\n",
        "loan2['emp_length'] = loan2['emp_length'].astype('float')"
      ],
      "metadata": {
        "id": "VeHZ7GiGBunD",
        "colab": {
          "base_uri": "https://localhost:8080/"
        },
        "outputId": "b15ff96f-ba60-480d-84c5-7dc414522504"
      },
      "execution_count": 15,
      "outputs": [
        {
          "output_type": "stream",
          "name": "stderr",
          "text": [
            "<ipython-input-15-8f7e445ed3f7>:2: SettingWithCopyWarning: \n",
            "A value is trying to be set on a copy of a slice from a DataFrame.\n",
            "Try using .loc[row_indexer,col_indexer] = value instead\n",
            "\n",
            "See the caveats in the documentation: https://pandas.pydata.org/pandas-docs/stable/user_guide/indexing.html#returning-a-view-versus-a-copy\n",
            "  loan2['emp_length'] = loan2['emp_length'].str.replace('year', \"\")\n",
            "<ipython-input-15-8f7e445ed3f7>:3: SettingWithCopyWarning: \n",
            "A value is trying to be set on a copy of a slice from a DataFrame.\n",
            "Try using .loc[row_indexer,col_indexer] = value instead\n",
            "\n",
            "See the caveats in the documentation: https://pandas.pydata.org/pandas-docs/stable/user_guide/indexing.html#returning-a-view-versus-a-copy\n",
            "  loan2['emp_length'] = loan2['emp_length'].str.replace('s', \"\")\n",
            "<ipython-input-15-8f7e445ed3f7>:4: SettingWithCopyWarning: \n",
            "A value is trying to be set on a copy of a slice from a DataFrame.\n",
            "Try using .loc[row_indexer,col_indexer] = value instead\n",
            "\n",
            "See the caveats in the documentation: https://pandas.pydata.org/pandas-docs/stable/user_guide/indexing.html#returning-a-view-versus-a-copy\n",
            "  loan2['emp_length'] = loan2['emp_length'].str.replace('< 1', \"0.5\")\n",
            "<ipython-input-15-8f7e445ed3f7>:5: FutureWarning: The default value of regex will change from True to False in a future version. In addition, single character regular expressions will *not* be treated as literal strings when regex=True.\n",
            "  loan2['emp_length'] = loan2['emp_length'].str.replace('+', \"\")\n",
            "<ipython-input-15-8f7e445ed3f7>:5: SettingWithCopyWarning: \n",
            "A value is trying to be set on a copy of a slice from a DataFrame.\n",
            "Try using .loc[row_indexer,col_indexer] = value instead\n",
            "\n",
            "See the caveats in the documentation: https://pandas.pydata.org/pandas-docs/stable/user_guide/indexing.html#returning-a-view-versus-a-copy\n",
            "  loan2['emp_length'] = loan2['emp_length'].str.replace('+', \"\")\n",
            "<ipython-input-15-8f7e445ed3f7>:6: SettingWithCopyWarning: \n",
            "A value is trying to be set on a copy of a slice from a DataFrame.\n",
            "Try using .loc[row_indexer,col_indexer] = value instead\n",
            "\n",
            "See the caveats in the documentation: https://pandas.pydata.org/pandas-docs/stable/user_guide/indexing.html#returning-a-view-versus-a-copy\n",
            "  loan2['emp_length'] = loan2['emp_length'].str.replace(' ', \"\")\n",
            "<ipython-input-15-8f7e445ed3f7>:7: SettingWithCopyWarning: \n",
            "A value is trying to be set on a copy of a slice from a DataFrame.\n",
            "Try using .loc[row_indexer,col_indexer] = value instead\n",
            "\n",
            "See the caveats in the documentation: https://pandas.pydata.org/pandas-docs/stable/user_guide/indexing.html#returning-a-view-versus-a-copy\n",
            "  loan2['emp_length'] = loan2['emp_length'].astype('float')\n"
          ]
        }
      ]
    },
    {
      "cell_type": "code",
      "source": [
        "avg_emp_length_by_loan_risk = pd.DataFrame(loan2.groupby('loan_risk')['emp_length'].mean().reset_index())"
      ],
      "metadata": {
        "id": "WUVSbr1GH_i-"
      },
      "execution_count": 16,
      "outputs": []
    },
    {
      "cell_type": "code",
      "source": [
        "avg_emp_length_by_loan_risk['emp_length'] = avg_emp_length_by_loan_risk['emp_length'].round()"
      ],
      "metadata": {
        "id": "KlIIkNueIFCF"
      },
      "execution_count": 17,
      "outputs": []
    },
    {
      "cell_type": "code",
      "source": [
        "avg_annual_inc_by_loan_risk = pd.DataFrame(loan2.groupby('loan_risk')['annual_inc'].mean().reset_index())"
      ],
      "metadata": {
        "id": "PKp-Zqeub0Yw"
      },
      "execution_count": 18,
      "outputs": []
    },
    {
      "cell_type": "code",
      "source": [
        "graph_data = pd.merge(pd.merge(avg_loan_amnt_by_loan_risk, avg_rate_by_loan_risk,  on='loan_risk'), avg_dti_by_loan_risk,  on='loan_risk',  how='inner')"
      ],
      "metadata": {
        "id": "Rr6Ek2bPvFUb"
      },
      "execution_count": 19,
      "outputs": []
    },
    {
      "cell_type": "code",
      "source": [
        "graph_data = pd.merge(pd.merge(graph_data, avg_installment_by_loan_risk, on='loan_risk'), avg_emp_length_by_loan_risk, on='loan_risk', how='inner')"
      ],
      "metadata": {
        "id": "cds5jxb7JnqP"
      },
      "execution_count": 20,
      "outputs": []
    },
    {
      "cell_type": "code",
      "source": [
        "graph_data = graph_data.merge(avg_annual_inc_by_loan_risk, on = 'loan_risk')"
      ],
      "metadata": {
        "id": "Ql93ijBzcf3j"
      },
      "execution_count": 21,
      "outputs": []
    },
    {
      "cell_type": "code",
      "source": [
        "graph_data['order'] = [2,0,1]"
      ],
      "metadata": {
        "id": "RB5q5NteJMrl"
      },
      "execution_count": 22,
      "outputs": []
    },
    {
      "cell_type": "code",
      "source": [
        "graph_data.sort_values(by = 'order', inplace=True)"
      ],
      "metadata": {
        "id": "m0C_q31PRHWV"
      },
      "execution_count": 23,
      "outputs": []
    },
    {
      "cell_type": "code",
      "source": [
        "loan2['int_range'] = pd.cut(loan2['int_rate'], bins = [5,10.01,14.01,18.01,22.01,26.01,29.01], labels = ['5-10','10-14','14-18','18-22','22-26','26-29'])"
      ],
      "metadata": {
        "id": "lkXXv8fSYp4z",
        "colab": {
          "base_uri": "https://localhost:8080/"
        },
        "outputId": "6cacbd18-8744-4345-df2c-64b5343fa6bf"
      },
      "execution_count": 24,
      "outputs": [
        {
          "output_type": "stream",
          "name": "stderr",
          "text": [
            "<ipython-input-24-5c15275ff2c6>:1: SettingWithCopyWarning: \n",
            "A value is trying to be set on a copy of a slice from a DataFrame.\n",
            "Try using .loc[row_indexer,col_indexer] = value instead\n",
            "\n",
            "See the caveats in the documentation: https://pandas.pydata.org/pandas-docs/stable/user_guide/indexing.html#returning-a-view-versus-a-copy\n",
            "  loan2['int_range'] = pd.cut(loan2['int_rate'], bins = [5,10.01,14.01,18.01,22.01,26.01,29.01], labels = ['5-10','10-14','14-18','18-22','22-26','26-29'])\n"
          ]
        }
      ]
    },
    {
      "cell_type": "code",
      "source": [
        "#graph functions\n",
        "def bar_chart(ax, x, y, color, title, ylabel):\n",
        "  ax.bar(x, y, color=color, width=0.6)\n",
        "  ax.set_title(title)\n",
        "  ax.set_ylabel(ylabel)\n",
        "\n",
        "def double_bar_chart(ax, x, y1, y2, width, label1, label2, color1, color2, title):\n",
        "  ax.bar(x - width/2, y1, width, label=label1, color=color1)\n",
        "  ax.bar(x + width/2, y2, width, label=label2, color=color2)\n",
        "  ax.set_title(title)\n",
        "  ax.legend()\n",
        "\n",
        "def triple_bar_chart(ax, x, y1, y2, y3, width, label1, label2, label3, color1, color2, color3, title):\n",
        "  ax.bar(x - width, y1, width, label=label1, color=color1)\n",
        "  ax.bar(x, y2, width, label=label2, color=color2)\n",
        "  ax.bar(x + width, y3, width, label=label3, color=color3)\n",
        "  ax.set_title(title)\n",
        "  ax.legend()\n",
        "\n",
        "def add_text(chart, x, y, move_y, angle, move_x = 0,):\n",
        "  for i in range(0, len(x)):\n",
        "    x_value = x[i]\n",
        "    if type(x[i]) != str:\n",
        "      x_value = x[i] + move_x\n",
        "    chart.text(x_value, y[i]-move_y, round(y[i], 2), horizontalalignment='center', rotation=angle)"
      ],
      "metadata": {
        "id": "0aaBklcfUqhH"
      },
      "execution_count": 25,
      "outputs": []
    },
    {
      "cell_type": "code",
      "source": [
        "plt.style.use('seaborn-dark')\n",
        "fig, ax = plt.subplots(2,3, figsize = (22,12))\n",
        "\n",
        "#charts\n",
        "bar_chart(ax[0,0], graph_data['loan_risk'], graph_data['loan_amnt'], '#FF7F50', 'Average loan amount depending on risk', 'Loan amount[$]')\n",
        "bar_chart(ax[0,1], graph_data['loan_risk'], graph_data['annual_inc'], '#5CFF5C', 'Average annual income depending on risk', 'Income[$]')\n",
        "bar_chart(ax[0,2], graph_data['loan_risk'], graph_data['int_rate'], '#6699CC', 'Average interest rate depending on risk', 'Interest rate[%]')\n",
        "bar_chart(ax[1,0], graph_data['loan_risk'], graph_data['dti'], '#FF6666', 'Average dti depending on risk', 'DTI[%]')\n",
        "bar_chart(ax[1,1], graph_data['loan_risk'], graph_data['installment'], '#FFFF00', 'Average installment depending on risk', 'Installment[$]' )\n",
        "bar_chart(ax[1,2], graph_data['loan_risk'], graph_data['emp_length'], '#FF5CAD', 'Average employeement length depending on risk', 'Years')\n",
        "\n",
        "#text\n",
        "add_text(ax[0,0], graph_data['loan_risk'], graph_data['loan_amnt'], 1000, 0)\n",
        "add_text(ax[0,1], graph_data['loan_risk'], graph_data['annual_inc'], 4000, 0)\n",
        "add_text(ax[0,2], graph_data['loan_risk'], graph_data['int_rate'], 1, 0)\n",
        "add_text(ax[1,0], graph_data['loan_risk'], graph_data['dti'], 1.25, 0)\n",
        "add_text(ax[1,1], graph_data['loan_risk'], graph_data['installment'], 30, 0)\n",
        "add_text(ax[1,2], graph_data['loan_risk'], graph_data['emp_length'], 0.3, 0)"
      ],
      "metadata": {
        "colab": {
          "base_uri": "https://localhost:8080/",
          "height": 1000
        },
        "id": "FbJZwav2d-U4",
        "outputId": "72c49321-9c14-4f30-c99c-bb713b61e0fc"
      },
      "execution_count": 26,
      "outputs": [
        {
          "output_type": "stream",
          "name": "stderr",
          "text": [
            "<ipython-input-26-cac68affaea3>:1: MatplotlibDeprecationWarning: The seaborn styles shipped by Matplotlib are deprecated since 3.6, as they no longer correspond to the styles shipped by seaborn. However, they will remain available as 'seaborn-v0_8-<style>'. Alternatively, directly use the seaborn API instead.\n",
            "  plt.style.use('seaborn-dark')\n"
          ]
        },
        {
          "output_type": "display_data",
          "data": {
            "text/plain": [
              "<Figure size 2200x1200 with 6 Axes>"
            ],
            "image/png": "[encoded data removed]"
          },
          "metadata": {}
        }
      ]
    },
    {
      "cell_type": "code",
      "source": [
        "#term values by loan term\n",
        "months_36 = loan2[loan2['term'] == ' 36 months']\n",
        "months_60 = loan2[loan2['term'] == ' 60 months']"
      ],
      "metadata": {
        "id": "NNJ1KDYlvHk-"
      },
      "execution_count": 27,
      "outputs": []
    },
    {
      "cell_type": "code",
      "source": [
        "#counting values by loan term\n",
        "ver = loan2[loan2['verification_status'] == 'Verified']\n",
        "source_ver = loan2[loan2['verification_status'] == 'Source Verified']\n",
        "not_ver = loan2[loan2['verification_status'] == 'Not Verified']"
      ],
      "metadata": {
        "id": "V14rHSt-oGAH"
      },
      "execution_count": 28,
      "outputs": []
    },
    {
      "cell_type": "code",
      "source": [
        "#counting values by home ownership\n",
        "rent = loan2[loan2['home_ownership'] == 'RENT']\n",
        "own = loan2[loan2['home_ownership'] == 'OWN']\n",
        "mortgage = loan2[loan2['home_ownership'] == 'MORTGAGE']\n",
        "other = loan2[loan2['home_ownership'] == 'OTHER']"
      ],
      "metadata": {
        "id": "99oHpwGOu72S"
      },
      "execution_count": 29,
      "outputs": []
    },
    {
      "cell_type": "code",
      "source": [
        "#iterest rates ranges\n",
        "loan_int_range_df = pd.DataFrame(loan2['int_range'].value_counts()).reset_index().sort_values(by='index')"
      ],
      "metadata": {
        "id": "FWyhoKhWdCuu"
      },
      "execution_count": 30,
      "outputs": []
    },
    {
      "cell_type": "code",
      "source": [
        "fig, ax = plt.subplots(2,2, figsize = (22,18))\n",
        "X = ['Low', 'Medium', 'High']\n",
        "X_axis = np.arange(len(X))\n",
        "\n",
        "#Terms depending on risk\n",
        "double_bar_chart(ax[0,0], X_axis, months_36['loan_risk'].value_counts().values, months_60['loan_risk'].value_counts().values, 0.4, '36 months', '60 months', '#965300', '#F28500', 'Loan terms depending on risk')\n",
        "ax[0,0].set_xticklabels([' ',' ','Low',' ','Medium',' ','High'])\n",
        "\n",
        "#Verification status depending on risk\n",
        "triple_bar_chart(ax[0,1], X_axis, ver['loan_risk'].value_counts().values, source_ver['loan_risk'].value_counts().values, not_ver['loan_risk'].value_counts().values, 0.25, \n",
        "                     'Verified', 'Source Verified', 'Not Verified', '#007500', '#00A300', '#00D100', 'Verification status depending on risk')\n",
        "ax[0,1].set_xticklabels([' ',' ','Low',' ','Medium',' ','High'])\n",
        "\n",
        "# Interest Rate on the loan\n",
        "bar_chart(ax[1,0], loan_int_range_df['index'], loan_int_range_df['int_range'], '#088FFA', 'Interest rate [%] ranges on the loan', '')\n",
        "\n",
        "# #Home ownership depending on risk\n",
        "triple_bar_chart(ax[1,1], X_axis, mortgage['loan_risk'].value_counts().values, rent['loan_risk'].value_counts().values, own['loan_risk'].value_counts().values, 0.2, \n",
        "                     'MORTGAGE', 'RENT', 'OWN', '#FFBE6A', '#FFD73B', '#FFED01', 'Home ownership depending on risk')\n",
        "ax[1,1].set_xticklabels([' ','Low',' ','Medium',' ','High'])\n",
        "\n",
        "# #text\n",
        "add_text(ax[0,0], X_axis , months_36['loan_risk'].value_counts().values, -5000, 0, move_x = -0.2)\n",
        "add_text(ax[0,0], X_axis , months_60['loan_risk'].value_counts().values, -5000, 0, move_x = 0.2)\n",
        "add_text(ax[0,1], X_axis , ver['loan_risk'].value_counts().values, -2000, 0, move_x = -0.25)\n",
        "add_text(ax[0,1], X_axis , source_ver['loan_risk'].value_counts().values, -2000, 0, move_x = 0.0)\n",
        "add_text(ax[0,1], X_axis , not_ver['loan_risk'].value_counts().values, -2000, 0, move_x = 0.25)\n",
        "add_text(ax[1,0], loan_int_range_df['index'], loan_int_range_df['int_range'], -3000, 0)\n",
        "add_text(ax[1,1], X_axis, mortgage['loan_risk'].value_counts().values, -2000, 0, move_x = -0.2)\n",
        "add_text(ax[1,1], X_axis, own['loan_risk'].value_counts().values, -4000, 0, move_x = 0.2)\n",
        "add_text(ax[1,1], X_axis, rent['loan_risk'].value_counts().values, -4000, 0)"
      ],
      "metadata": {
        "colab": {
          "base_uri": "https://localhost:8080/",
          "height": 1000
        },
        "id": "vo7dzJQWlgIg",
        "outputId": "22e8f20b-7497-4ef8-bb84-0238e0033bf5"
      },
      "execution_count": 31,
      "outputs": [
        {
          "output_type": "stream",
          "name": "stderr",
          "text": [
            "<ipython-input-31-dd7a710175bb>:7: UserWarning: FixedFormatter should only be used together with FixedLocator\n",
            "  ax[0,0].set_xticklabels([' ',' ','Low',' ','Medium',' ','High'])\n",
            "<ipython-input-31-dd7a710175bb>:12: UserWarning: FixedFormatter should only be used together with FixedLocator\n",
            "  ax[0,1].set_xticklabels([' ',' ','Low',' ','Medium',' ','High'])\n",
            "<ipython-input-31-dd7a710175bb>:20: UserWarning: FixedFormatter should only be used together with FixedLocator\n",
            "  ax[1,1].set_xticklabels([' ','Low',' ','Medium',' ','High'])\n"
          ]
        },
        {
          "output_type": "display_data",
          "data": {
            "text/plain": [
              "<Figure size 2200x1800 with 4 Axes>"
            ],
            "image/png": "[encoded data removed]"
          },
          "metadata": {}
        }
      ]
    },
    {
      "cell_type": "markdown",
      "source": [
        "# 4. Changing cat_columns to category"
      ],
      "metadata": {
        "id": "tMHHSGvSnqrc"
      }
    },
    {
      "cell_type": "code",
      "source": [
        "cat_loan = loan2.copy()"
      ],
      "metadata": {
        "id": "OIvtXS-AnqXT"
      },
      "execution_count": 32,
      "outputs": []
    },
    {
      "cell_type": "code",
      "source": [
        "cat_loan.columns"
      ],
      "metadata": {
        "id": "7BT37C7YvLml",
        "outputId": "2ff8e745-9361-477b-bf6f-b8fe3861af8c",
        "colab": {
          "base_uri": "https://localhost:8080/"
        }
      },
      "execution_count": 33,
      "outputs": [
        {
          "output_type": "execute_result",
          "data": {
            "text/plain": [
              "Index(['loan_amnt', 'term', 'int_rate', 'installment', 'grade',\n",
              "       'home_ownership', 'emp_length', 'annual_inc', 'purpose', 'dti',\n",
              "       'delinq_2yrs', 'application_type', 'annual_inc_joint', 'dti_joint',\n",
              "       'verification_status', 'loan_status', 'loan_risk', 'int_range'],\n",
              "      dtype='object')"
            ]
          },
          "metadata": {},
          "execution_count": 33
        }
      ]
    },
    {
      "cell_type": "code",
      "source": [
        "cat_columns = ['term', 'grade', 'home_ownership', 'emp_length',  'purpose', 'application_type', 'verification_status', 'loan_status', 'loan_risk']"
      ],
      "metadata": {
        "id": "K1lLZPann_Kr"
      },
      "execution_count": 34,
      "outputs": []
    },
    {
      "cell_type": "code",
      "source": [
        "for cat in cat_loan.columns:\n",
        "  cat_loan[cat] = cat_loan[cat].astype('category')\n",
        "  cat_loan[cat] = cat_loan[cat].cat.codes"
      ],
      "metadata": {
        "id": "GvyhUzAvoXfv"
      },
      "execution_count": 35,
      "outputs": []
    },
    {
      "cell_type": "code",
      "source": [
        "cat_loan.drop('int_range', axis=1, inplace=True)"
      ],
      "metadata": {
        "id": "Aqme4CY7sfVs"
      },
      "execution_count": 36,
      "outputs": []
    },
    {
      "cell_type": "code",
      "source": [
        "cat_loan.info()"
      ],
      "metadata": {
        "colab": {
          "base_uri": "https://localhost:8080/"
        },
        "id": "WxE_X4wt1g0C",
        "outputId": "bd0ea2fa-ebf7-4577-9ea2-fbe1e737aa00"
      },
      "execution_count": 37,
      "outputs": [
        {
          "output_type": "stream",
          "name": "stdout",
          "text": [
            "<class 'pandas.core.frame.DataFrame'>\n",
            "RangeIndex: 887379 entries, 0 to 887378\n",
            "Data columns (total 17 columns):\n",
            " #   Column               Non-Null Count   Dtype\n",
            "---  ------               --------------   -----\n",
            " 0   loan_amnt            887379 non-null  int16\n",
            " 1   term                 887379 non-null  int8 \n",
            " 2   int_rate             887379 non-null  int16\n",
            " 3   installment          887379 non-null  int32\n",
            " 4   grade                887379 non-null  int8 \n",
            " 5   home_ownership       887379 non-null  int8 \n",
            " 6   emp_length           887379 non-null  int8 \n",
            " 7   annual_inc           887379 non-null  int32\n",
            " 8   purpose              887379 non-null  int8 \n",
            " 9   dti                  887379 non-null  int16\n",
            " 10  delinq_2yrs          887379 non-null  int8 \n",
            " 11  application_type     887379 non-null  int8 \n",
            " 12  annual_inc_joint     887379 non-null  int16\n",
            " 13  dti_joint            887379 non-null  int16\n",
            " 14  verification_status  887379 non-null  int8 \n",
            " 15  loan_status          887379 non-null  int8 \n",
            " 16  loan_risk            887379 non-null  int8 \n",
            "dtypes: int16(5), int32(2), int8(10)\n",
            "memory usage: 23.7 MB\n"
          ]
        }
      ]
    },
    {
      "cell_type": "code",
      "source": [
        "cat_loan.head()"
      ],
      "metadata": {
        "colab": {
          "base_uri": "https://localhost:8080/",
          "height": 206
        },
        "id": "DyvDBIcLswVv",
        "outputId": "026e42d1-7c13-41c9-d562-258a8b506a0f"
      },
      "execution_count": 38,
      "outputs": [
        {
          "output_type": "execute_result",
          "data": {
            "text/plain": [
              "   loan_amnt  term  int_rate  installment  grade  home_ownership  emp_length  \\\n",
              "0        171     0       101         8998      1               3          10   \n",
              "1         71     1       275         1643      2               3           0   \n",
              "2         67     0       299         3234      2               3          10   \n",
              "3        371     0       197        23752      2               3          10   \n",
              "4         91     1       166         2147      1               3           1   \n",
              "\n",
              "   annual_inc  purpose   dti  delinq_2yrs  application_type  annual_inc_joint  \\\n",
              "0        3219        1  2765            0                 0                 0   \n",
              "1        5758        0   100            0                 0                 0   \n",
              "2         426       11   872            0                 0                 0   \n",
              "3       17260        9  2000            0                 0                 0   \n",
              "4       33858        9  1794            0                 0                 0   \n",
              "\n",
              "   dti_joint  verification_status  loan_status  loan_risk  \n",
              "0          0                    2            5          1  \n",
              "1          0                    1            0          0  \n",
              "2          0                    0            5          1  \n",
              "3          0                    1            5          1  \n",
              "4          0                    1            1          1  "
            ],
            "text/html": [
              "\n",
              "  <div id=\"df-225d692c-6449-41a4-b24e-a8c35c3f964a\">\n",
              "    <div class=\"colab-df-container\">\n",
              "      <div>\n",
              "<style scoped>\n",
              "    .dataframe tbody tr th:only-of-type {\n",
              "        vertical-align: middle;\n",
              "    }\n",
              "\n",
              "    .dataframe tbody tr th {\n",
              "        vertical-align: top;\n",
              "    }\n",
              "\n",
              "    .dataframe thead th {\n",
              "        text-align: right;\n",
              "    }\n",
              "</style>\n",
              "<table border=\"1\" class=\"dataframe\">\n",
              "  <thead>\n",
              "    <tr style=\"text-align: right;\">\n",
              "      <th></th>\n",
              "      <th>loan_amnt</th>\n",
              "      <th>term</th>\n",
              "      <th>int_rate</th>\n",
              "      <th>installment</th>\n",
              "      <th>grade</th>\n",
              "      <th>home_ownership</th>\n",
              "      <th>emp_length</th>\n",
              "      <th>annual_inc</th>\n",
              "      <th>purpose</th>\n",
              "      <th>dti</th>\n",
              "      <th>delinq_2yrs</th>\n",
              "      <th>application_type</th>\n",
              "      <th>annual_inc_joint</th>\n",
              "      <th>dti_joint</th>\n",
              "      <th>verification_status</th>\n",
              "      <th>loan_status</th>\n",
              "      <th>loan_risk</th>\n",
              "    </tr>\n",
              "  </thead>\n",
              "  <tbody>\n",
              "    <tr>\n",
              "      <th>0</th>\n",
              "      <td>171</td>\n",
              "      <td>0</td>\n",
              "      <td>101</td>\n",
              "      <td>8998</td>\n",
              "      <td>1</td>\n",
              "      <td>3</td>\n",
              "      <td>10</td>\n",
              "      <td>3219</td>\n",
              "      <td>1</td>\n",
              "      <td>2765</td>\n",
              "      <td>0</td>\n",
              "      <td>0</td>\n",
              "      <td>0</td>\n",
              "      <td>0</td>\n",
              "      <td>2</td>\n",
              "      <td>5</td>\n",
              "      <td>1</td>\n",
              "    </tr>\n",
              "    <tr>\n",
              "      <th>1</th>\n",
              "      <td>71</td>\n",
              "      <td>1</td>\n",
              "      <td>275</td>\n",
              "      <td>1643</td>\n",
              "      <td>2</td>\n",
              "      <td>3</td>\n",
              "      <td>0</td>\n",
              "      <td>5758</td>\n",
              "      <td>0</td>\n",
              "      <td>100</td>\n",
              "      <td>0</td>\n",
              "      <td>0</td>\n",
              "      <td>0</td>\n",
              "      <td>0</td>\n",
              "      <td>1</td>\n",
              "      <td>0</td>\n",
              "      <td>0</td>\n",
              "    </tr>\n",
              "    <tr>\n",
              "      <th>2</th>\n",
              "      <td>67</td>\n",
              "      <td>0</td>\n",
              "      <td>299</td>\n",
              "      <td>3234</td>\n",
              "      <td>2</td>\n",
              "      <td>3</td>\n",
              "      <td>10</td>\n",
              "      <td>426</td>\n",
              "      <td>11</td>\n",
              "      <td>872</td>\n",
              "      <td>0</td>\n",
              "      <td>0</td>\n",
              "      <td>0</td>\n",
              "      <td>0</td>\n",
              "      <td>0</td>\n",
              "      <td>5</td>\n",
              "      <td>1</td>\n",
              "    </tr>\n",
              "    <tr>\n",
              "      <th>3</th>\n",
              "      <td>371</td>\n",
              "      <td>0</td>\n",
              "      <td>197</td>\n",
              "      <td>23752</td>\n",
              "      <td>2</td>\n",
              "      <td>3</td>\n",
              "      <td>10</td>\n",
              "      <td>17260</td>\n",
              "      <td>9</td>\n",
              "      <td>2000</td>\n",
              "      <td>0</td>\n",
              "      <td>0</td>\n",
              "      <td>0</td>\n",
              "      <td>0</td>\n",
              "      <td>1</td>\n",
              "      <td>5</td>\n",
              "      <td>1</td>\n",
              "    </tr>\n",
              "    <tr>\n",
              "      <th>4</th>\n",
              "      <td>91</td>\n",
              "      <td>1</td>\n",
              "      <td>166</td>\n",
              "      <td>2147</td>\n",
              "      <td>1</td>\n",
              "      <td>3</td>\n",
              "      <td>1</td>\n",
              "      <td>33858</td>\n",
              "      <td>9</td>\n",
              "      <td>1794</td>\n",
              "      <td>0</td>\n",
              "      <td>0</td>\n",
              "      <td>0</td>\n",
              "      <td>0</td>\n",
              "      <td>1</td>\n",
              "      <td>1</td>\n",
              "      <td>1</td>\n",
              "    </tr>\n",
              "  </tbody>\n",
              "</table>\n",
              "</div>\n",
              "      <button class=\"colab-df-convert\" onclick=\"convertToInteractive('df-225d692c-6449-41a4-b24e-a8c35c3f964a')\"\n",
              "              title=\"Convert this dataframe to an interactive table.\"\n",
              "              style=\"display:none;\">\n",
              "        \n",
              "  <svg xmlns=\"http://www.w3.org/2000/svg\" height=\"24px\"viewBox=\"0 0 24 24\"\n",
              "       width=\"24px\">\n",
              "    <path d=\"M0 0h24v24H0V0z\" fill=\"none\"/>\n",
              "    <path d=\"M18.56 5.44l.94 2.06.94-2.06 2.06-.94-2.06-.94-.94-2.06-.94 2.06-2.06.94zm-11 1L8.5 8.5l.94-2.06 2.06-.94-2.06-.94L8.5 2.5l-.94 2.06-2.06.94zm10 10l.94 2.06.94-2.06 2.06-.94-2.06-.94-.94-2.06-.94 2.06-2.06.94z\"/><path d=\"M17.41 7.96l-1.37-1.37c-.4-.4-.92-.59-1.43-.59-.52 0-1.04.2-1.43.59L10.3 9.45l-7.72 7.72c-.78.78-.78 2.05 0 2.83L4 21.41c.39.39.9.59 1.41.59.51 0 1.02-.2 1.41-.59l7.78-7.78 2.81-2.81c.8-.78.8-2.07 0-2.86zM5.41 20L4 18.59l7.72-7.72 1.47 1.35L5.41 20z\"/>\n",
              "  </svg>\n",
              "      </button>\n",
              "      \n",
              "  <style>\n",
              "    .colab-df-container {\n",
              "      display:flex;\n",
              "      flex-wrap:wrap;\n",
              "      gap: 12px;\n",
              "    }\n",
              "\n",
              "    .colab-df-convert {\n",
              "      background-color: #E8F0FE;\n",
              "      border: none;\n",
              "      border-radius: 50%;\n",
              "      cursor: pointer;\n",
              "      display: none;\n",
              "      fill: #1967D2;\n",
              "      height: 32px;\n",
              "      padding: 0 0 0 0;\n",
              "      width: 32px;\n",
              "    }\n",
              "\n",
              "    .colab-df-convert:hover {\n",
              "      background-color: #E2EBFA;\n",
              "      box-shadow: 0px 1px 2px rgba(60, 64, 67, 0.3), 0px 1px 3px 1px rgba(60, 64, 67, 0.15);\n",
              "      fill: #174EA6;\n",
              "    }\n",
              "\n",
              "    [theme=dark] .colab-df-convert {\n",
              "      background-color: #3B4455;\n",
              "      fill: #D2E3FC;\n",
              "    }\n",
              "\n",
              "    [theme=dark] .colab-df-convert:hover {\n",
              "      background-color: #434B5C;\n",
              "      box-shadow: 0px 1px 3px 1px rgba(0, 0, 0, 0.15);\n",
              "      filter: drop-shadow(0px 1px 2px rgba(0, 0, 0, 0.3));\n",
              "      fill: #FFFFFF;\n",
              "    }\n",
              "  </style>\n",
              "\n",
              "      <script>\n",
              "        const buttonEl =\n",
              "          document.querySelector('#df-225d692c-6449-41a4-b24e-a8c35c3f964a button.colab-df-convert');\n",
              "        buttonEl.style.display =\n",
              "          google.colab.kernel.accessAllowed ? 'block' : 'none';\n",
              "\n",
              "        async function convertToInteractive(key) {\n",
              "          const element = document.querySelector('#df-225d692c-6449-41a4-b24e-a8c35c3f964a');\n",
              "          const dataTable =\n",
              "            await google.colab.kernel.invokeFunction('convertToInteractive',\n",
              "                                                     [key], {});\n",
              "          if (!dataTable) return;\n",
              "\n",
              "          const docLinkHtml = 'Like what you see? Visit the ' +\n",
              "            '<a target=\"_blank\" href=https://colab.research.google.com/notebooks/data_table.ipynb>data table notebook</a>'\n",
              "            + ' to learn more about interactive tables.';\n",
              "          element.innerHTML = '';\n",
              "          dataTable['output_type'] = 'display_data';\n",
              "          await google.colab.output.renderOutput(dataTable, element);\n",
              "          const docLink = document.createElement('div');\n",
              "          docLink.innerHTML = docLinkHtml;\n",
              "          element.appendChild(docLink);\n",
              "        }\n",
              "      </script>\n",
              "    </div>\n",
              "  </div>\n",
              "  "
            ]
          },
          "metadata": {},
          "execution_count": 38
        }
      ]
    },
    {
      "cell_type": "code",
      "source": [
        "# fig, ax = plt.subplots(figsize=(20,20))\n",
        "# sns.heatmap(cat_loan.corr(), cmap=\"crest\", annot=True)"
      ],
      "metadata": {
        "id": "wkWqNpt29gL0"
      },
      "execution_count": 39,
      "outputs": []
    },
    {
      "cell_type": "markdown",
      "source": [
        "#5. Preparation for classification models"
      ],
      "metadata": {
        "id": "RHK3efvFvy2y"
      }
    },
    {
      "cell_type": "markdown",
      "source": [
        "### 5.1 Dependent and independent variable\n",
        "\n",
        "\n"
      ],
      "metadata": {
        "id": "RT0JzQm2wvtT"
      }
    },
    {
      "cell_type": "code",
      "source": [
        "X = cat_loan.iloc[:, :-1]\n",
        "y = cat_loan['loan_risk']"
      ],
      "metadata": {
        "id": "1i0A4oFdvv3b"
      },
      "execution_count": 40,
      "outputs": []
    },
    {
      "cell_type": "code",
      "source": [
        "y.value_counts().plot.pie(autopct = '%.2f')"
      ],
      "metadata": {
        "id": "Xs7mHyFu1NuY",
        "outputId": "2dd22505-d35b-42e1-c5cb-56d38f0b8f00",
        "colab": {
          "base_uri": "https://localhost:8080/",
          "height": 424
        }
      },
      "execution_count": 41,
      "outputs": [
        {
          "output_type": "execute_result",
          "data": {
            "text/plain": [
              "<Axes: ylabel='loan_risk'>"
            ]
          },
          "metadata": {},
          "execution_count": 41
        },
        {
          "output_type": "display_data",
          "data": {
            "text/plain": [
              "<Figure size 640x480 with 1 Axes>"
            ],
            "image/png": "[encoded data removed]"
          },
          "metadata": {}
        }
      ]
    },
    {
      "cell_type": "markdown",
      "source": [
        "Dataset is ubalanced so it is necessary to use techniques for balance dataset."
      ],
      "metadata": {
        "id": "ii7iEj9f1SEx"
      }
    },
    {
      "cell_type": "markdown",
      "source": [
        "### 5.2 Undersampling"
      ],
      "metadata": {
        "id": "aIU0I1k_0Ime"
      }
    },
    {
      "cell_type": "code",
      "source": [
        "X_under, y_under = RandomUnderSampler().fit_resample(X, y)\n",
        "print(sorted(Counter(y_under).items()))"
      ],
      "metadata": {
        "colab": {
          "base_uri": "https://localhost:8080/"
        },
        "id": "-f7e_ys_0Kwl",
        "outputId": "2dac2c40-bb99-442a-97e6-c1858de411f7"
      },
      "execution_count": 42,
      "outputs": [
        {
          "output_type": "stream",
          "name": "stdout",
          "text": [
            "[(0, 8610), (1, 8610), (2, 8610)]\n"
          ]
        }
      ]
    },
    {
      "cell_type": "code",
      "source": [
        "y_under.value_counts().plot.pie(autopct = '%.2f')"
      ],
      "metadata": {
        "colab": {
          "base_uri": "https://localhost:8080/",
          "height": 424
        },
        "id": "5a3OePVG5mkm",
        "outputId": "5886c82e-826d-4f90-fd99-a6b4a6513e52"
      },
      "execution_count": 43,
      "outputs": [
        {
          "output_type": "execute_result",
          "data": {
            "text/plain": [
              "<Axes: ylabel='loan_risk'>"
            ]
          },
          "metadata": {},
          "execution_count": 43
        },
        {
          "output_type": "display_data",
          "data": {
            "text/plain": [
              "<Figure size 640x480 with 1 Axes>"
            ],
            "image/png": "[encoded data removed]"
          },
          "metadata": {}
        }
      ]
    },
    {
      "cell_type": "markdown",
      "source": [
        "### 5.3 Split dataset to train and test sets"
      ],
      "metadata": {
        "id": "hRuDkrRR3K7b"
      }
    },
    {
      "cell_type": "code",
      "source": [
        "X_train, X_test, y_train, y_test = train_test_split(X_under, y_under, test_size=0.2, random_state=777)"
      ],
      "metadata": {
        "id": "3C4mLmW1OtFu"
      },
      "execution_count": 44,
      "outputs": []
    },
    {
      "cell_type": "markdown",
      "source": [
        "# 6. Classification models"
      ],
      "metadata": {
        "id": "V-_sLKsE6JUI"
      }
    },
    {
      "cell_type": "markdown",
      "source": [
        "### 6.1 Gaussian Naive Bayes"
      ],
      "metadata": {
        "id": "jzAfpi-N8Y4g"
      }
    },
    {
      "cell_type": "code",
      "source": [
        "bnb = BernoulliNB()"
      ],
      "metadata": {
        "id": "9vNjbSSj6Iyi"
      },
      "execution_count": 45,
      "outputs": []
    },
    {
      "cell_type": "code",
      "source": [
        "bnb.fit(X_train, y_train)"
      ],
      "metadata": {
        "id": "wZVVLvSh8_iI",
        "outputId": "20e2d578-f9f5-475d-8bec-e4670adcb0bb",
        "colab": {
          "base_uri": "https://localhost:8080/",
          "height": 75
        }
      },
      "execution_count": 46,
      "outputs": [
        {
          "output_type": "execute_result",
          "data": {
            "text/plain": [
              "BernoulliNB()"
            ],
            "text/html": [
              "<style>#sk-container-id-1 {color: black;background-color: white;}#sk-container-id-1 pre{padding: 0;}#sk-container-id-1 div.sk-toggleable {background-color: white;}#sk-container-id-1 label.sk-toggleable__label {cursor: pointer;display: block;width: 100%;margin-bottom: 0;padding: 0.3em;box-sizing: border-box;text-align: center;}#sk-container-id-1 label.sk-toggleable__label-arrow:before {content: \"▸\";float: left;margin-right: 0.25em;color: #696969;}#sk-container-id-1 label.sk-toggleable__label-arrow:hover:before {color: black;}#sk-container-id-1 div.sk-estimator:hover label.sk-toggleable__label-arrow:before {color: black;}#sk-container-id-1 div.sk-toggleable__content {max-height: 0;max-width: 0;overflow: hidden;text-align: left;background-color: #f0f8ff;}#sk-container-id-1 div.sk-toggleable__content pre {margin: 0.2em;color: black;border-radius: 0.25em;background-color: #f0f8ff;}#sk-container-id-1 input.sk-toggleable__control:checked~div.sk-toggleable__content {max-height: 200px;max-width: 100%;overflow: auto;}#sk-container-id-1 input.sk-toggleable__control:checked~label.sk-toggleable__label-arrow:before {content: \"▾\";}#sk-container-id-1 div.sk-estimator input.sk-toggleable__control:checked~label.sk-toggleable__label {background-color: #d4ebff;}#sk-container-id-1 div.sk-label input.sk-toggleable__control:checked~label.sk-toggleable__label {background-color: #d4ebff;}#sk-container-id-1 input.sk-hidden--visually {border: 0;clip: rect(1px 1px 1px 1px);clip: rect(1px, 1px, 1px, 1px);height: 1px;margin: -1px;overflow: hidden;padding: 0;position: absolute;width: 1px;}#sk-container-id-1 div.sk-estimator {font-family: monospace;background-color: #f0f8ff;border: 1px dotted black;border-radius: 0.25em;box-sizing: border-box;margin-bottom: 0.5em;}#sk-container-id-1 div.sk-estimator:hover {background-color: #d4ebff;}#sk-container-id-1 div.sk-parallel-item::after {content: \"\";width: 100%;border-bottom: 1px solid gray;flex-grow: 1;}#sk-container-id-1 div.sk-label:hover label.sk-toggleable__label {background-color: #d4ebff;}#sk-container-id-1 div.sk-serial::before {content: \"\";position: absolute;border-left: 1px solid gray;box-sizing: border-box;top: 0;bottom: 0;left: 50%;z-index: 0;}#sk-container-id-1 div.sk-serial {display: flex;flex-direction: column;align-items: center;background-color: white;padding-right: 0.2em;padding-left: 0.2em;position: relative;}#sk-container-id-1 div.sk-item {position: relative;z-index: 1;}#sk-container-id-1 div.sk-parallel {display: flex;align-items: stretch;justify-content: center;background-color: white;position: relative;}#sk-container-id-1 div.sk-item::before, #sk-container-id-1 div.sk-parallel-item::before {content: \"\";position: absolute;border-left: 1px solid gray;box-sizing: border-box;top: 0;bottom: 0;left: 50%;z-index: -1;}#sk-container-id-1 div.sk-parallel-item {display: flex;flex-direction: column;z-index: 1;position: relative;background-color: white;}#sk-container-id-1 div.sk-parallel-item:first-child::after {align-self: flex-end;width: 50%;}#sk-container-id-1 div.sk-parallel-item:last-child::after {align-self: flex-start;width: 50%;}#sk-container-id-1 div.sk-parallel-item:only-child::after {width: 0;}#sk-container-id-1 div.sk-dashed-wrapped {border: 1px dashed gray;margin: 0 0.4em 0.5em 0.4em;box-sizing: border-box;padding-bottom: 0.4em;background-color: white;}#sk-container-id-1 div.sk-label label {font-family: monospace;font-weight: bold;display: inline-block;line-height: 1.2em;}#sk-container-id-1 div.sk-label-container {text-align: center;}#sk-container-id-1 div.sk-container {/* jupyter's `normalize.less` sets `[hidden] { display: none; }` but bootstrap.min.css set `[hidden] { display: none !important; }` so we also need the `!important` here to be able to override the default hidden behavior on the sphinx rendered scikit-learn.org. See: https://github.com/scikit-learn/scikit-learn/issues/21755 */display: inline-block !important;position: relative;}#sk-container-id-1 div.sk-text-repr-fallback {display: none;}</style><div id=\"sk-container-id-1\" class=\"sk-top-container\"><div class=\"sk-text-repr-fallback\"><pre>BernoulliNB()</pre><b>In a Jupyter environment, please rerun this cell to show the HTML representation or trust the notebook. <br />On GitHub, the HTML representation is unable to render, please try loading this page with nbviewer.org.</b></div><div class=\"sk-container\" hidden><div class=\"sk-item\"><div class=\"sk-estimator sk-toggleable\"><input class=\"sk-toggleable__control sk-hidden--visually\" id=\"sk-estimator-id-1\" type=\"checkbox\" checked><label for=\"sk-estimator-id-1\" class=\"sk-toggleable__label sk-toggleable__label-arrow\">BernoulliNB</label><div class=\"sk-toggleable__content\"><pre>BernoulliNB()</pre></div></div></div></div></div>"
            ]
          },
          "metadata": {},
          "execution_count": 46
        }
      ]
    },
    {
      "cell_type": "code",
      "source": [
        "y_bnb_pred = bnb.predict(X_test)"
      ],
      "metadata": {
        "id": "c4OZouuT9FRF"
      },
      "execution_count": 47,
      "outputs": []
    },
    {
      "cell_type": "code",
      "execution_count": 48,
      "metadata": {
        "id": "da8d9569",
        "colab": {
          "base_uri": "https://localhost:8080/"
        },
        "outputId": "b4988ffa-fa62-473a-9a5e-26e708aee808"
      },
      "outputs": [
        {
          "output_type": "stream",
          "name": "stdout",
          "text": [
            "              precision    recall  f1-score   support\n",
            "\n",
            "           0       1.00      0.77      0.87      1762\n",
            "           1       0.53      0.48      0.51      1627\n",
            "           2       0.52      0.67      0.59      1777\n",
            "\n",
            "    accuracy                           0.65      5166\n",
            "   macro avg       0.68      0.64      0.65      5166\n",
            "weighted avg       0.69      0.65      0.66      5166\n",
            "\n"
          ]
        }
      ],
      "source": [
        "print(classification_report(y_test, y_bnb_pred))"
      ]
    },
    {
      "cell_type": "code",
      "execution_count": 49,
      "metadata": {
        "id": "2fb360b5",
        "colab": {
          "base_uri": "https://localhost:8080/",
          "height": 443
        },
        "outputId": "fc7f372a-8eca-4c6d-cdaa-f72cbeb7429b"
      },
      "outputs": [
        {
          "output_type": "execute_result",
          "data": {
            "text/plain": [
              "<Axes: >"
            ]
          },
          "metadata": {},
          "execution_count": 49
        },
        {
          "output_type": "display_data",
          "data": {
            "text/plain": [
              "<Figure size 640x480 with 2 Axes>"
            ],
            "image/png": "[encoded data removed]"
          },
          "metadata": {}
        }
      ],
      "source": [
        "cm = confusion_matrix(y_test, y_bnb_pred)\n",
        "sns.heatmap(cm, annot = True, fmt=\".0f\" , cmap=\"YlGnBu\")"
      ]
    },
    {
      "cell_type": "markdown",
      "source": [
        "Conclusions:\n",
        "\n",
        "1. For GaussianNB, accuracy = 0.46\n",
        "2. For BernouliiNB, accuracy = 0.71"
      ],
      "metadata": {
        "id": "RFfH-UAixXdU"
      }
    },
    {
      "cell_type": "markdown",
      "source": [
        "### 6.2 SVM"
      ],
      "metadata": {
        "id": "5M68Ci3GzfUv"
      }
    },
    {
      "cell_type": "code",
      "source": [
        "svc_model = SVC(kernel='poly', gamma=0.1, C=0.1)"
      ],
      "metadata": {
        "id": "1fBxVefIkWqw"
      },
      "execution_count": 55,
      "outputs": []
    },
    {
      "cell_type": "code",
      "source": [
        "svc_model.fit(X_train, y_train)"
      ],
      "metadata": {
        "id": "1RbD6tIFknXg"
      },
      "execution_count": null,
      "outputs": []
    },
    {
      "cell_type": "code",
      "source": [
        "y_svc_pred = svc_model.predict(X_test)"
      ],
      "metadata": {
        "id": "MtZu12kEm5vh"
      },
      "execution_count": 52,
      "outputs": []
    },
    {
      "cell_type": "code",
      "source": [
        "print(classification_report(y_test, y_svc_pred))"
      ],
      "metadata": {
        "id": "nEaaDf53nCVB",
        "outputId": "0b6c52e3-11cd-4fe5-a814-864488c2e354",
        "colab": {
          "base_uri": "https://localhost:8080/"
        }
      },
      "execution_count": 53,
      "outputs": [
        {
          "output_type": "stream",
          "name": "stdout",
          "text": [
            "              precision    recall  f1-score   support\n",
            "\n",
            "           0       0.40      0.54      0.46      1762\n",
            "           1       0.40      0.41      0.40      1627\n",
            "           2       0.42      0.26      0.32      1777\n",
            "\n",
            "    accuracy                           0.40      5166\n",
            "   macro avg       0.41      0.40      0.40      5166\n",
            "weighted avg       0.41      0.40      0.39      5166\n",
            "\n"
          ]
        }
      ]
    },
    {
      "cell_type": "code",
      "source": [
        "cm = confusion_matrix(y_test, y_svc_pred)\n",
        "sns.heatmap(cm, annot = True, fmt=\".0f\" , cmap=\"YlGnBu\")"
      ],
      "metadata": {
        "id": "q4JzcTv8nHlh",
        "outputId": "a5159a71-5985-40fa-fbcf-237201cd2b22",
        "colab": {
          "base_uri": "https://localhost:8080/",
          "height": 443
        }
      },
      "execution_count": 54,
      "outputs": [
        {
          "output_type": "execute_result",
          "data": {
            "text/plain": [
              "<Axes: >"
            ]
          },
          "metadata": {},
          "execution_count": 54
        },
        {
          "output_type": "display_data",
          "data": {
            "text/plain": [
              "<Figure size 640x480 with 2 Axes>"
            ],
            "image/png": "[encoded data removed]"
          },
          "metadata": {}
        }
      ]
    }
  ]
}